{
 "cells": [
  {
   "cell_type": "code",
   "execution_count": 1,
   "id": "ac651c73-d75f-4099-93dd-0d2c78169bfe",
   "metadata": {},
   "outputs": [],
   "source": [
    "from random import randint"
   ]
  },
  {
   "cell_type": "code",
   "execution_count": 4,
   "id": "6ce6dfb1-7b84-4ad1-ae0a-a6993a66430b",
   "metadata": {},
   "outputs": [],
   "source": [
    "class Dice:\n",
    "    def __init__(self, faces:int) -> None:\n",
    "        self.faces = int(faces)\n",
    "        \n",
    "    def roll(self, times=1) -> None:\n",
    "        for i in range(times):\n",
    "            print(\"id#\", i, \" --> \", randint(1, self.faces))\n",
    "        \n",
    "d6 = Dice(6)\n",
    "d10 = Dice(10)\n",
    "d12 = Dice(12)\n",
    "d20 = Dice(20)"
   ]
  },
  {
   "cell_type": "code",
   "execution_count": 1,
   "id": "78014ff7-e9f6-4626-8995-7fac21605e84",
   "metadata": {
    "ExecuteTime": {
     "end_time": "2023-06-02T02:54:29.778360200Z",
     "start_time": "2023-06-02T02:54:29.301308900Z"
    }
   },
   "outputs": [
    {
     "ename": "NameError",
     "evalue": "name 'd6' is not defined",
     "output_type": "error",
     "traceback": [
      "\u001B[1;31m---------------------------------------------------------------------------\u001B[0m",
      "\u001B[1;31mNameError\u001B[0m                                 Traceback (most recent call last)",
      "Cell \u001B[1;32mIn[1], line 1\u001B[0m\n\u001B[1;32m----> 1\u001B[0m \u001B[43md6\u001B[49m\u001B[38;5;241m.\u001B[39mroll(\u001B[38;5;241m3\u001B[39m)\n",
      "\u001B[1;31mNameError\u001B[0m: name 'd6' is not defined"
     ]
    }
   ],
   "source": [
    "d6.roll(3)"
   ]
  },
  {
   "cell_type": "code",
   "execution_count": null,
   "id": "0596af06-93bd-42ee-b316-25f0aa5263c9",
   "metadata": {},
   "outputs": [],
   "source": [
    "ficha = {\n",
    "    'info':{\n",
    "        'nome_do_personagem':'Theren Galanodel',\n",
    "        'raca': 'Elfo (Elf)',\n",
    "        'classe': 'Ladino (Rogue)',\n",
    "        'nivel': 1,\n",
    "        'antecedente':'',\n",
    "        'tendencia': '',\n",
    "        'pontos_experiencia': '',\n",
    "    },\n",
    "    'habilidades':{\n",
    "        'forca': '',\n",
    "        'destreza': '',\n",
    "        'constituicao': '',\n",
    "        'inteligencia': '',\n",
    "        'sabedoria': '',\n",
    "        'carisma': '',\n",
    "    },\n",
    "    'inspiracao': '',\n",
    "    'bonus_de_proficiencia': '',\n",
    "    'testes_de_resistencia':{\n",
    "        'forca': '',\n",
    "        'destreza': '',\n",
    "        'constituicao': '',\n",
    "        'inteligencia': '',\n",
    "        'sabedoria': '',\n",
    "        'carisma': '',\n",
    "    },\n",
    "    'pericias':{\n",
    "        'acrobacia': '',\n",
    "        'adestrar_animais': '',\n",
    "        'atletismo': '',\n",
    "        'atuacao': '',\n",
    "        'enganacao': '',\n",
    "        'furtividade': '',\n",
    "        'historia': '',\n",
    "        'intimidacao': '',\n",
    "        'investigacao': '',\n",
    "        'medicina': '',\n",
    "        'natureza': '',\n",
    "        'percepcao': '',\n",
    "        'persuasao': '',\n",
    "        'prestidigitacao': '',\n",
    "        'religiao': '',\n",
    "        'sobrevivencia': '',\n",
    "    },\n",
    "    'status':{\n",
    "        'pontos_de_vida': '',\n",
    "        'pontos_de_vida_temporarios': '',\n",
    "        'max_pontos_de_vida': '',\n",
    "        'classe_de_armadure': '',\n",
    "        'iniciativa': '',\n",
    "        'deslocamento': '',\n",
    "        'dado_de_vida': '',\n",
    "        'resistencia_a_morte': {\n",
    "            'sucessos': '',\n",
    "            'fracasos': '',\n",
    "        },\n",
    "    }\n",
    "}"
   ]
  }
 ],
 "metadata": {
  "kernelspec": {
   "display_name": "Python 3 (ipykernel)",
   "language": "python",
   "name": "python3"
  },
  "language_info": {
   "codemirror_mode": {
    "name": "ipython",
    "version": 3
   },
   "file_extension": ".py",
   "mimetype": "text/x-python",
   "name": "python",
   "nbconvert_exporter": "python",
   "pygments_lexer": "ipython3",
   "version": "3.9.16"
  }
 },
 "nbformat": 4,
 "nbformat_minor": 5
}
